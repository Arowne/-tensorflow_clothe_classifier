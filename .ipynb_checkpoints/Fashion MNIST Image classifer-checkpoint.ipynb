{
 "cells": [
  {
   "cell_type": "code",
   "execution_count": 1,
   "metadata": {
    "scrolled": true
   },
   "outputs": [
    {
     "name": "stderr",
     "output_type": "stream",
     "text": [
      "/home/aaron/.local/lib/python3.6/site-packages/tensorflow/python/framework/dtypes.py:516: FutureWarning: Passing (type, 1) or '1type' as a synonym of type is deprecated; in a future version of numpy, it will be understood as (type, (1,)) / '(1,)type'.\n",
      "  _np_qint8 = np.dtype([(\"qint8\", np.int8, 1)])\n",
      "/home/aaron/.local/lib/python3.6/site-packages/tensorflow/python/framework/dtypes.py:517: FutureWarning: Passing (type, 1) or '1type' as a synonym of type is deprecated; in a future version of numpy, it will be understood as (type, (1,)) / '(1,)type'.\n",
      "  _np_quint8 = np.dtype([(\"quint8\", np.uint8, 1)])\n",
      "/home/aaron/.local/lib/python3.6/site-packages/tensorflow/python/framework/dtypes.py:518: FutureWarning: Passing (type, 1) or '1type' as a synonym of type is deprecated; in a future version of numpy, it will be understood as (type, (1,)) / '(1,)type'.\n",
      "  _np_qint16 = np.dtype([(\"qint16\", np.int16, 1)])\n",
      "/home/aaron/.local/lib/python3.6/site-packages/tensorflow/python/framework/dtypes.py:519: FutureWarning: Passing (type, 1) or '1type' as a synonym of type is deprecated; in a future version of numpy, it will be understood as (type, (1,)) / '(1,)type'.\n",
      "  _np_quint16 = np.dtype([(\"quint16\", np.uint16, 1)])\n",
      "/home/aaron/.local/lib/python3.6/site-packages/tensorflow/python/framework/dtypes.py:520: FutureWarning: Passing (type, 1) or '1type' as a synonym of type is deprecated; in a future version of numpy, it will be understood as (type, (1,)) / '(1,)type'.\n",
      "  _np_qint32 = np.dtype([(\"qint32\", np.int32, 1)])\n",
      "/home/aaron/.local/lib/python3.6/site-packages/tensorflow/python/framework/dtypes.py:525: FutureWarning: Passing (type, 1) or '1type' as a synonym of type is deprecated; in a future version of numpy, it will be understood as (type, (1,)) / '(1,)type'.\n",
      "  np_resource = np.dtype([(\"resource\", np.ubyte, 1)])\n",
      "/home/aaron/.local/lib/python3.6/site-packages/tensorboard/compat/tensorflow_stub/dtypes.py:541: FutureWarning: Passing (type, 1) or '1type' as a synonym of type is deprecated; in a future version of numpy, it will be understood as (type, (1,)) / '(1,)type'.\n",
      "  _np_qint8 = np.dtype([(\"qint8\", np.int8, 1)])\n",
      "/home/aaron/.local/lib/python3.6/site-packages/tensorboard/compat/tensorflow_stub/dtypes.py:542: FutureWarning: Passing (type, 1) or '1type' as a synonym of type is deprecated; in a future version of numpy, it will be understood as (type, (1,)) / '(1,)type'.\n",
      "  _np_quint8 = np.dtype([(\"quint8\", np.uint8, 1)])\n",
      "/home/aaron/.local/lib/python3.6/site-packages/tensorboard/compat/tensorflow_stub/dtypes.py:543: FutureWarning: Passing (type, 1) or '1type' as a synonym of type is deprecated; in a future version of numpy, it will be understood as (type, (1,)) / '(1,)type'.\n",
      "  _np_qint16 = np.dtype([(\"qint16\", np.int16, 1)])\n",
      "/home/aaron/.local/lib/python3.6/site-packages/tensorboard/compat/tensorflow_stub/dtypes.py:544: FutureWarning: Passing (type, 1) or '1type' as a synonym of type is deprecated; in a future version of numpy, it will be understood as (type, (1,)) / '(1,)type'.\n",
      "  _np_quint16 = np.dtype([(\"quint16\", np.uint16, 1)])\n",
      "/home/aaron/.local/lib/python3.6/site-packages/tensorboard/compat/tensorflow_stub/dtypes.py:545: FutureWarning: Passing (type, 1) or '1type' as a synonym of type is deprecated; in a future version of numpy, it will be understood as (type, (1,)) / '(1,)type'.\n",
      "  _np_qint32 = np.dtype([(\"qint32\", np.int32, 1)])\n",
      "/home/aaron/.local/lib/python3.6/site-packages/tensorboard/compat/tensorflow_stub/dtypes.py:550: FutureWarning: Passing (type, 1) or '1type' as a synonym of type is deprecated; in a future version of numpy, it will be understood as (type, (1,)) / '(1,)type'.\n",
      "  np_resource = np.dtype([(\"resource\", np.ubyte, 1)])\n"
     ]
    }
   ],
   "source": [
    "import matplotlib.pyplot as plt\n",
    "import tensorflow as tf\n",
    "import numpy as np\n",
    "import pandas as pd\n",
    "from sklearn.model_selection import train_test_split\n",
    "\n",
    "import sys"
   ]
  },
  {
   "cell_type": "code",
   "execution_count": 2,
   "metadata": {},
   "outputs": [],
   "source": [
    "assert hasattr(tf, 'function')"
   ]
  },
  {
   "cell_type": "markdown",
   "metadata": {},
   "source": [
    "# Load the Fashion MNIST"
   ]
  },
  {
   "cell_type": "code",
   "execution_count": 3,
   "metadata": {
    "scrolled": true
   },
   "outputs": [
    {
     "name": "stdout",
     "output_type": "stream",
     "text": [
      "(28, 28)\n",
      "(10000, 784)\n",
      "(10000,)\n"
     ]
    }
   ],
   "source": [
    "#Improve models performance and reduce scale problematic\n",
    "# Reducing pixels value for models speed (using (x-u)/s) where x equal to images_pixels - average_of_images_pixels / difference_pixel_beetween_each_pixel\n",
    "from sklearn.preprocessing import StandardScaler\n",
    "\n",
    "# Fashion MNIST\n",
    "fashion_mnist = tf.keras.datasets.fashion_mnist\n",
    "(images, targets), (images_test, targets_test) = fashion_mnist.load_data()\n",
    "\n",
    "# Get only a subpart of the dataset\n",
    "images = images[:10000]\n",
    "targets = targets [:10000]\n",
    "\n",
    "# Reshape the dataset and convert to float\n",
    "print(images[0].shape)\n",
    "images = images.reshape(-1, 784)\n",
    "images = images.astype(float)\n",
    "images_test = images_test.reshape(-1, 784)\n",
    "images_test = images_test.astype(float)\n",
    "\n",
    "scaler = StandardScaler()\n",
    "images = scaler.fit_transform(images)\n",
    "images_test = scaler.transform(images_test)\n",
    "\n",
    "print(images.shape)\n",
    "print(targets.shape)"
   ]
  },
  {
   "cell_type": "markdown",
   "metadata": {},
   "source": [
    "# Handle data (plot data)"
   ]
  },
  {
   "cell_type": "code",
   "execution_count": 4,
   "metadata": {
    "scrolled": true
   },
   "outputs": [
    {
     "data": {
      "image/png": "[encoded data removed]",
      "text/plain": [
       "<Figure size 432x288 with 1 Axes>"
      ]
     },
     "metadata": {},
     "output_type": "display_data"
    }
   ],
   "source": [
    "targets_names = [\"T-shirt/top\", \"Trouser\", \"Pullover\", \"Dress\", \"Coat\", \"Sandal\", \n",
    "                 \"Shirt\", \"Sneaker\", \"Bag\", \"Ankle boot\"]\n",
    "\n",
    "plt.imshow(np.reshape(images[11], (28, 28)), cmap=\"binary\")\n",
    "plt.title(targets_names[targets[11]])\n",
    "plt.show()"
   ]
  },
  {
   "cell_type": "code",
   "execution_count": 5,
   "metadata": {
    "scrolled": true
   },
   "outputs": [
    {
     "name": "stdout",
     "output_type": "stream",
     "text": [
      "Get images informations -0.0142697062475628\n"
     ]
    }
   ],
   "source": [
    "print(\"Get images informations \" + str(images[11][0]))"
   ]
  },
  {
   "cell_type": "markdown",
   "metadata": {},
   "source": [
    "# Add the layers"
   ]
  },
  {
   "cell_type": "code",
   "execution_count": 6,
   "metadata": {
    "scrolled": false
   },
   "outputs": [],
   "source": [
    "model = tf.keras.models.Sequential()\n",
    "\n",
    "# Add the layers\n",
    "model.add(tf.keras.layers.Dense(256, activation=\"relu\"))\n",
    "model.add(tf.keras.layers.Dense(128, activation=\"relu\"))\n",
    "model.add(tf.keras.layers.Dense(10, activation=\"softmax\"))\n",
    "\n",
    "model_output = model.predict(images[0:1])"
   ]
  },
  {
   "cell_type": "code",
   "execution_count": 7,
   "metadata": {
    "scrolled": false
   },
   "outputs": [
    {
     "name": "stdout",
     "output_type": "stream",
     "text": [
      "Model: \"sequential\"\n",
      "_________________________________________________________________\n",
      "Layer (type)                 Output Shape              Param #   \n",
      "=================================================================\n",
      "dense (Dense)                multiple                  200960    \n",
      "_________________________________________________________________\n",
      "dense_1 (Dense)              multiple                  32896     \n",
      "_________________________________________________________________\n",
      "dense_2 (Dense)              multiple                  1290      \n",
      "=================================================================\n",
      "Total params: 235,146\n",
      "Trainable params: 235,146\n",
      "Non-trainable params: 0\n",
      "_________________________________________________________________\n"
     ]
    }
   ],
   "source": [
    "model.summary()"
   ]
  },
  {
   "cell_type": "code",
   "execution_count": 8,
   "metadata": {
    "scrolled": true
   },
   "outputs": [],
   "source": [
    "# Compile the model\n",
    "model.compile(\n",
    "    loss=\"sparse_categorical_crossentropy\",\n",
    "    optimizer=\"sgd\",\n",
    "    metrics=[\"accuracy\"]\n",
    ")"
   ]
  },
  {
   "cell_type": "code",
   "execution_count": 10,
   "metadata": {
    "scrolled": false
   },
   "outputs": [
    {
     "name": "stdout",
     "output_type": "stream",
     "text": [
      "WARNING:tensorflow:From /home/aaron/.local/lib/python3.6/site-packages/tensorflow/python/ops/math_grad.py:1250: add_dispatch_support.<locals>.wrapper (from tensorflow.python.ops.array_ops) is deprecated and will be removed in a future version.\n",
      "Instructions for updating:\n",
      "Use tf.where in 2.0, which has the same broadcast rule as np.where\n",
      "Train on 8000 samples, validate on 2000 samples\n",
      "Epoch 1/50\n",
      "8000/8000 [==============================] - 0s 61us/sample - loss: 0.8997 - accuracy: 0.6994 - val_loss: 0.6301 - val_accuracy: 0.7830\n",
      "Epoch 2/50\n",
      "8000/8000 [==============================] - 0s 42us/sample - loss: 0.5287 - accuracy: 0.8129 - val_loss: 0.5238 - val_accuracy: 0.8080\n",
      "Epoch 3/50\n",
      "8000/8000 [==============================] - 0s 42us/sample - loss: 0.4430 - accuracy: 0.8414 - val_loss: 0.4890 - val_accuracy: 0.8215\n",
      "Epoch 4/50\n",
      "8000/8000 [==============================] - 0s 42us/sample - loss: 0.3970 - accuracy: 0.8572 - val_loss: 0.4640 - val_accuracy: 0.8305\n",
      "Epoch 5/50\n",
      "8000/8000 [==============================] - 0s 41us/sample - loss: 0.3654 - accuracy: 0.8699 - val_loss: 0.4535 - val_accuracy: 0.8345\n",
      "Epoch 6/50\n",
      "8000/8000 [==============================] - 0s 42us/sample - loss: 0.3368 - accuracy: 0.8810 - val_loss: 0.4356 - val_accuracy: 0.8395\n",
      "Epoch 7/50\n",
      "8000/8000 [==============================] - 0s 40us/sample - loss: 0.3144 - accuracy: 0.8932 - val_loss: 0.4255 - val_accuracy: 0.8480\n",
      "Epoch 8/50\n",
      "8000/8000 [==============================] - 0s 43us/sample - loss: 0.2930 - accuracy: 0.8984 - val_loss: 0.4270 - val_accuracy: 0.8405\n",
      "Epoch 9/50\n",
      "8000/8000 [==============================] - 0s 41us/sample - loss: 0.2763 - accuracy: 0.9024 - val_loss: 0.4143 - val_accuracy: 0.8525\n",
      "Epoch 10/50\n",
      "8000/8000 [==============================] - 0s 41us/sample - loss: 0.2601 - accuracy: 0.9096 - val_loss: 0.4151 - val_accuracy: 0.8575\n",
      "Epoch 11/50\n",
      "8000/8000 [==============================] - 0s 41us/sample - loss: 0.2455 - accuracy: 0.9155 - val_loss: 0.4324 - val_accuracy: 0.8425\n",
      "Epoch 12/50\n",
      "8000/8000 [==============================] - 0s 39us/sample - loss: 0.2330 - accuracy: 0.9220 - val_loss: 0.4137 - val_accuracy: 0.8515\n",
      "Epoch 13/50\n",
      "8000/8000 [==============================] - 0s 39us/sample - loss: 0.2206 - accuracy: 0.9261 - val_loss: 0.4155 - val_accuracy: 0.8525\n",
      "Epoch 14/50\n",
      "8000/8000 [==============================] - 0s 42us/sample - loss: 0.2073 - accuracy: 0.9348 - val_loss: 0.4040 - val_accuracy: 0.8585\n",
      "Epoch 15/50\n",
      "8000/8000 [==============================] - 0s 42us/sample - loss: 0.1977 - accuracy: 0.9366 - val_loss: 0.4088 - val_accuracy: 0.8560\n",
      "Epoch 16/50\n",
      "8000/8000 [==============================] - 0s 43us/sample - loss: 0.1854 - accuracy: 0.9408 - val_loss: 0.4089 - val_accuracy: 0.8580\n",
      "Epoch 17/50\n",
      "8000/8000 [==============================] - 0s 41us/sample - loss: 0.1769 - accuracy: 0.9445 - val_loss: 0.4202 - val_accuracy: 0.8575\n",
      "Epoch 18/50\n",
      "8000/8000 [==============================] - 0s 41us/sample - loss: 0.1669 - accuracy: 0.9470 - val_loss: 0.4084 - val_accuracy: 0.8590\n",
      "Epoch 19/50\n",
      "8000/8000 [==============================] - 0s 43us/sample - loss: 0.1584 - accuracy: 0.9506 - val_loss: 0.4263 - val_accuracy: 0.8530\n",
      "Epoch 20/50\n",
      "8000/8000 [==============================] - 0s 41us/sample - loss: 0.1486 - accuracy: 0.9567 - val_loss: 0.4155 - val_accuracy: 0.8600\n",
      "Epoch 21/50\n",
      "8000/8000 [==============================] - 0s 42us/sample - loss: 0.1416 - accuracy: 0.9580 - val_loss: 0.4147 - val_accuracy: 0.8610\n",
      "Epoch 22/50\n",
      "8000/8000 [==============================] - 0s 43us/sample - loss: 0.1329 - accuracy: 0.9620 - val_loss: 0.4227 - val_accuracy: 0.8565\n",
      "Epoch 23/50\n",
      "8000/8000 [==============================] - 0s 44us/sample - loss: 0.1252 - accuracy: 0.9655 - val_loss: 0.4157 - val_accuracy: 0.8625\n",
      "Epoch 24/50\n",
      "8000/8000 [==============================] - 0s 41us/sample - loss: 0.1184 - accuracy: 0.9676 - val_loss: 0.4265 - val_accuracy: 0.8595\n",
      "Epoch 25/50\n",
      "8000/8000 [==============================] - 0s 42us/sample - loss: 0.1124 - accuracy: 0.9703 - val_loss: 0.4387 - val_accuracy: 0.8600\n",
      "Epoch 26/50\n",
      "8000/8000 [==============================] - 0s 42us/sample - loss: 0.1057 - accuracy: 0.9734 - val_loss: 0.4322 - val_accuracy: 0.8605\n",
      "Epoch 27/50\n",
      "8000/8000 [==============================] - 0s 43us/sample - loss: 0.0996 - accuracy: 0.9758 - val_loss: 0.4356 - val_accuracy: 0.8630\n",
      "Epoch 28/50\n",
      "8000/8000 [==============================] - 0s 43us/sample - loss: 0.0936 - accuracy: 0.9771 - val_loss: 0.4368 - val_accuracy: 0.8620\n",
      "Epoch 29/50\n",
      "8000/8000 [==============================] - 0s 42us/sample - loss: 0.0883 - accuracy: 0.9794 - val_loss: 0.4382 - val_accuracy: 0.8615\n",
      "Epoch 30/50\n",
      "8000/8000 [==============================] - 0s 43us/sample - loss: 0.0824 - accuracy: 0.9826 - val_loss: 0.4402 - val_accuracy: 0.8650\n",
      "Epoch 31/50\n",
      "8000/8000 [==============================] - 0s 42us/sample - loss: 0.0786 - accuracy: 0.9839 - val_loss: 0.4502 - val_accuracy: 0.8610\n",
      "Epoch 32/50\n",
      "8000/8000 [==============================] - 0s 43us/sample - loss: 0.0751 - accuracy: 0.9835 - val_loss: 0.4449 - val_accuracy: 0.8690\n",
      "Epoch 33/50\n",
      "8000/8000 [==============================] - 0s 43us/sample - loss: 0.0705 - accuracy: 0.9860 - val_loss: 0.4478 - val_accuracy: 0.8625\n",
      "Epoch 34/50\n",
      "8000/8000 [==============================] - 0s 43us/sample - loss: 0.0656 - accuracy: 0.9874 - val_loss: 0.4658 - val_accuracy: 0.8595\n",
      "Epoch 35/50\n",
      "8000/8000 [==============================] - 0s 44us/sample - loss: 0.0616 - accuracy: 0.9908 - val_loss: 0.4676 - val_accuracy: 0.8610\n",
      "Epoch 36/50\n",
      "8000/8000 [==============================] - 0s 43us/sample - loss: 0.0587 - accuracy: 0.9906 - val_loss: 0.4644 - val_accuracy: 0.8620\n",
      "Epoch 37/50\n",
      "8000/8000 [==============================] - 0s 41us/sample - loss: 0.0556 - accuracy: 0.9914 - val_loss: 0.4665 - val_accuracy: 0.8615\n",
      "Epoch 38/50\n",
      "8000/8000 [==============================] - 0s 41us/sample - loss: 0.0532 - accuracy: 0.9924 - val_loss: 0.4663 - val_accuracy: 0.8655\n",
      "Epoch 39/50\n",
      "8000/8000 [==============================] - 0s 42us/sample - loss: 0.0496 - accuracy: 0.9929 - val_loss: 0.4726 - val_accuracy: 0.8640\n",
      "Epoch 40/50\n",
      "8000/8000 [==============================] - 0s 41us/sample - loss: 0.0478 - accuracy: 0.9942 - val_loss: 0.4737 - val_accuracy: 0.8600\n",
      "Epoch 41/50\n",
      "8000/8000 [==============================] - 0s 42us/sample - loss: 0.0445 - accuracy: 0.9946 - val_loss: 0.4784 - val_accuracy: 0.8605\n",
      "Epoch 42/50\n",
      "8000/8000 [==============================] - 0s 41us/sample - loss: 0.0428 - accuracy: 0.9946 - val_loss: 0.4861 - val_accuracy: 0.8635\n",
      "Epoch 43/50\n",
      "8000/8000 [==============================] - 0s 40us/sample - loss: 0.0398 - accuracy: 0.9951 - val_loss: 0.4931 - val_accuracy: 0.8645\n",
      "Epoch 44/50\n",
      "8000/8000 [==============================] - 0s 41us/sample - loss: 0.0376 - accuracy: 0.9965 - val_loss: 0.4888 - val_accuracy: 0.8645\n",
      "Epoch 45/50\n",
      "8000/8000 [==============================] - 0s 40us/sample - loss: 0.0360 - accuracy: 0.9961 - val_loss: 0.4899 - val_accuracy: 0.8645\n",
      "Epoch 46/50\n",
      "8000/8000 [==============================] - 0s 39us/sample - loss: 0.0339 - accuracy: 0.9967 - val_loss: 0.5074 - val_accuracy: 0.8610\n",
      "Epoch 47/50\n",
      "8000/8000 [==============================] - 0s 42us/sample - loss: 0.0323 - accuracy: 0.9971 - val_loss: 0.4974 - val_accuracy: 0.8645\n",
      "Epoch 48/50\n",
      "8000/8000 [==============================] - 0s 43us/sample - loss: 0.0319 - accuracy: 0.9975 - val_loss: 0.5090 - val_accuracy: 0.8625\n",
      "Epoch 49/50\n",
      "8000/8000 [==============================] - 0s 42us/sample - loss: 0.0294 - accuracy: 0.9979 - val_loss: 0.5092 - val_accuracy: 0.8595\n",
      "Epoch 50/50\n",
      "8000/8000 [==============================] - 0s 46us/sample - loss: 0.0279 - accuracy: 0.9981 - val_loss: 0.5067 - val_accuracy: 0.8635\n"
     ]
    }
   ],
   "source": [
    "history  = model.fit(images, targets, epochs=50, validation_split=0.2)"
   ]
  },
  {
   "cell_type": "code",
   "execution_count": 13,
   "metadata": {
    "scrolled": true
   },
   "outputs": [
    {
     "data": {
      "image/png": "[encoded data removed]",
      "text/plain": [
       "<Figure size 432x288 with 1 Axes>"
      ]
     },
     "metadata": {},
     "output_type": "display_data"
    },
    {
     "data": {
      "image/png": "[encoded data removed]",
      "text/plain": [
       "<Figure size 432x288 with 1 Axes>"
      ]
     },
     "metadata": {},
     "output_type": "display_data"
    }
   ],
   "source": [
    "loss_curve = history.history['loss']\n",
    "acc_curve = history.history['accuracy']\n",
    "\n",
    "\n",
    "val_loss_curve = history.history['val_loss']\n",
    "val_acc_curve = history.history['val_accuracy']\n",
    "\n",
    "plt.plot(loss_curve)\n",
    "plt.plot(val_loss_curve)\n",
    "plt.title('loss')\n",
    "plt.show()\n",
    "\n",
    "plt.plot(acc_curve)\n",
    "plt.plot(val_acc_curve)\n",
    "plt.title('Accuracy')\n",
    "plt.show()"
   ]
  },
  {
   "cell_type": "code",
   "execution_count": 14,
   "metadata": {
    "scrolled": false
   },
   "outputs": [
    {
     "name": "stdout",
     "output_type": "stream",
     "text": [
      "10000/10000 [==============================] - 0s 17us/sample - loss: 0.5825 - accuracy: 0.8504\n",
      "Test Loss 0.5825068960547447\n",
      "Test Accuracy 0.8504\n"
     ]
    },
    {
     "ename": "OSError",
     "evalue": "SavedModel file does not exist at: fashion_mnist_prediction.h5/{saved_model.pbtxt|saved_model.pb}",
     "output_type": "error",
     "traceback": [
      "\u001b[0;31m---------------------------------------------------------------------------\u001b[0m",
      "\u001b[0;31mOSError\u001b[0m                                   Traceback (most recent call last)",
      "\u001b[0;32m<ipython-input-14-ba72ecc04c89>\u001b[0m in \u001b[0;36m<module>\u001b[0;34m()\u001b[0m\n\u001b[1;32m      6\u001b[0m \u001b[0;34m\u001b[0m\u001b[0m\n\u001b[1;32m      7\u001b[0m \u001b[0;31m#model.save(\"fashion_mnist_prediction.h5\")\u001b[0m\u001b[0;34m\u001b[0m\u001b[0;34m\u001b[0m\u001b[0;34m\u001b[0m\u001b[0m\n\u001b[0;32m----> 8\u001b[0;31m \u001b[0mmodel\u001b[0m \u001b[0;34m=\u001b[0m \u001b[0mtf\u001b[0m\u001b[0;34m.\u001b[0m\u001b[0mkeras\u001b[0m\u001b[0;34m.\u001b[0m\u001b[0mmodels\u001b[0m\u001b[0;34m.\u001b[0m\u001b[0mload_model\u001b[0m\u001b[0;34m(\u001b[0m\u001b[0;34m\"fashion_mnist_prediction.h5\"\u001b[0m\u001b[0;34m)\u001b[0m\u001b[0;34m\u001b[0m\u001b[0;34m\u001b[0m\u001b[0m\n\u001b[0m\u001b[1;32m      9\u001b[0m \u001b[0mprediction\u001b[0m \u001b[0;34m=\u001b[0m \u001b[0mmodel\u001b[0m\u001b[0;34m.\u001b[0m\u001b[0mpredict\u001b[0m\u001b[0;34m(\u001b[0m\u001b[0mimages_test\u001b[0m\u001b[0;34m[\u001b[0m\u001b[0;36m1898\u001b[0m\u001b[0;34m:\u001b[0m\u001b[0;36m1899\u001b[0m\u001b[0;34m]\u001b[0m\u001b[0;34m)\u001b[0m\u001b[0;34m\u001b[0m\u001b[0;34m\u001b[0m\u001b[0m\n\u001b[1;32m     10\u001b[0m \u001b[0;34m\u001b[0m\u001b[0m\n",
      "\u001b[0;32m/home/aaron/.local/lib/python3.6/site-packages/tensorflow/python/keras/saving/save.py\u001b[0m in \u001b[0;36mload_model\u001b[0;34m(filepath, custom_objects, compile)\u001b[0m\n\u001b[1;32m    138\u001b[0m \u001b[0;34m\u001b[0m\u001b[0m\n\u001b[1;32m    139\u001b[0m   \u001b[0;32mif\u001b[0m \u001b[0misinstance\u001b[0m\u001b[0;34m(\u001b[0m\u001b[0mfilepath\u001b[0m\u001b[0;34m,\u001b[0m \u001b[0msix\u001b[0m\u001b[0;34m.\u001b[0m\u001b[0mstring_types\u001b[0m\u001b[0;34m)\u001b[0m\u001b[0;34m:\u001b[0m\u001b[0;34m\u001b[0m\u001b[0;34m\u001b[0m\u001b[0m\n\u001b[0;32m--> 140\u001b[0;31m     \u001b[0mloader_impl\u001b[0m\u001b[0;34m.\u001b[0m\u001b[0mparse_saved_model\u001b[0m\u001b[0;34m(\u001b[0m\u001b[0mfilepath\u001b[0m\u001b[0;34m)\u001b[0m\u001b[0;34m\u001b[0m\u001b[0;34m\u001b[0m\u001b[0m\n\u001b[0m\u001b[1;32m    141\u001b[0m     \u001b[0;32mreturn\u001b[0m \u001b[0msaved_model\u001b[0m\u001b[0;34m.\u001b[0m\u001b[0mload_from_saved_model_v2\u001b[0m\u001b[0;34m(\u001b[0m\u001b[0mfilepath\u001b[0m\u001b[0;34m,\u001b[0m \u001b[0mcompile\u001b[0m\u001b[0;34m)\u001b[0m\u001b[0;34m\u001b[0m\u001b[0;34m\u001b[0m\u001b[0m\n\u001b[1;32m    142\u001b[0m \u001b[0;34m\u001b[0m\u001b[0m\n",
      "\u001b[0;32m/home/aaron/.local/lib/python3.6/site-packages/tensorflow/python/saved_model/loader_impl.py\u001b[0m in \u001b[0;36mparse_saved_model\u001b[0;34m(export_dir)\u001b[0m\n\u001b[1;32m     81\u001b[0m                   (export_dir,\n\u001b[1;32m     82\u001b[0m                    \u001b[0mconstants\u001b[0m\u001b[0;34m.\u001b[0m\u001b[0mSAVED_MODEL_FILENAME_PBTXT\u001b[0m\u001b[0;34m,\u001b[0m\u001b[0;34m\u001b[0m\u001b[0;34m\u001b[0m\u001b[0m\n\u001b[0;32m---> 83\u001b[0;31m                    constants.SAVED_MODEL_FILENAME_PB))\n\u001b[0m\u001b[1;32m     84\u001b[0m \u001b[0;34m\u001b[0m\u001b[0m\n\u001b[1;32m     85\u001b[0m \u001b[0;34m\u001b[0m\u001b[0m\n",
      "\u001b[0;31mOSError\u001b[0m: SavedModel file does not exist at: fashion_mnist_prediction.h5/{saved_model.pbtxt|saved_model.pb}"
     ]
    }
   ],
   "source": [
    "#predict = model.predict(images_test[1900], steps=1)\n",
    "\n",
    "loss, acc = model.evaluate(images_test, targets_test)\n",
    "print(\"Test Loss\", loss)\n",
    "print(\"Test Accuracy\", acc)\n",
    "\n",
    "#model.save(\"fashion_mnist_prediction.h5\")\n",
    "model = tf.keras.models.load_model(\"fashion_mnist_prediction.h5\")\n",
    "prediction = model.predict(images_test[1898:1899])\n",
    "\n",
    "print(prediction)\n",
    "print(targets_test[1898:1899])\n",
    "print(np.round(prediction))"
   ]
  },
  {
   "cell_type": "code",
   "execution_count": null,
   "metadata": {},
   "outputs": [],
   "source": []
  }
 ],
 "metadata": {
  "kernelspec": {
   "display_name": "Python 3",
   "language": "python",
   "name": "python3"
  },
  "language_info": {
   "codemirror_mode": {
    "name": "ipython",
    "version": 3
   },
   "file_extension": ".py",
   "mimetype": "text/x-python",
   "name": "python",
   "nbconvert_exporter": "python",
   "pygments_lexer": "ipython3",
   "version": "3.6.9"
  }
 },
 "nbformat": 4,
 "nbformat_minor": 4
}
